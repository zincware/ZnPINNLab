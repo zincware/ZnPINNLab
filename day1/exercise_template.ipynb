{
 "cells": [
  {
   "cell_type": "markdown",
   "metadata": {},
   "source": [
    "# Exercise on datapreparation\n",
    "Working with neural networks involves managing vast amounts of data, and when you're dealing with multiple datasets, things can quickly spiral into chaos.<br> In order to keep the entropy of the system low, this notebook introduces you to a fundamental tool for data management: dictionaries. <br>Dictionaries provide an elegant solution to maintain structure and clarity in your data, making it easier to work with various sets of input and labeled output data.\n",
    "\n",
    "\n",
    "But that's not all. We'll also delve into the power of automation, demonstrating how dictionaries can be harnessed to streamline tasks like dataset creation.<br> This notebook will provide hands-on exercises on dictionaries, functions and for loops, equipping you with essential skills to tackle your upcoming experiment on neural networks."
   ]
  },
  {
   "cell_type": "markdown",
   "metadata": {},
   "source": [
    "# Tasks\n",
    "## Library import\n",
    "In this Exercise we are working with PyTorch (`torch`). A go-to library for machine learning due to its robust Machine Learning (ML) capabilities.<br> Its flexibility and powerful tools simplify the implementation of neural networks, making it an ideal choice for training and deploying models efficiently.<br> If you're familiar with NumPy, you'll find working with PyTorch to be similar, which eases the transition into deep learning.\n",
    "\n",
    "So as a first step, import torch.\n",
    "\n"
   ]
  },
  {
   "cell_type": "code",
   "execution_count": null,
   "metadata": {},
   "outputs": [],
   "source": []
  },
  {
   "cell_type": "markdown",
   "metadata": {},
   "source": [
    "## Labeled data\n",
    "Our objective is to produce a labeled dataset, where each input value is labeled with an associated target value. Here, the input values represent a time series, while the target values are related to the distance covered.  <br><br>\n",
    "To do so, we create two tensors: `data_input` and `data_target`.<br> These tensors will facilitate a straightforward task where each input value  should be multiplied by 2 to obtain the target value.\n",
    "| data_inputs   | 0  | 1  | 2  | 3  | 4  | 5  | 6  | 7  | 8  | 9  | 10 |\n",
    "| --- | -- | -- | -- | -- | -- | -- | -- | -- | -- | -- | --- |\n",
    "| data_target  | 0  | 2  | 4  | 6  | 8  | 10 | 12 | 14 | 16 | 18 | 20 |\n",
    "### Task 1\n",
    "1. **Create the `data_input` tensor:**\n",
    "   - Use the `torch.arange` command to generate a tensor with all integers between 0 and 10. This will be our input data.\n",
    "   <br><br>\n",
    "2. **Create the `data_target` tensor:**\n",
    "   - Generate another tensor, `data_target`,  by multiplying the `data_input` tensor by two.\n"
   ]
  },
  {
   "cell_type": "code",
   "execution_count": null,
   "metadata": {},
   "outputs": [],
   "source": [
    "# data_input ="
   ]
  },
  {
   "cell_type": "code",
   "execution_count": null,
   "metadata": {},
   "outputs": [],
   "source": [
    "# data_target ="
   ]
  },
  {
   "cell_type": "markdown",
   "metadata": {},
   "source": [
    "**Checkpoint:**\n",
    "\n",
    "Run the following cell. Your result should match the expected output:\n",
    "\n",
    "```python\n",
    "data_input tensor([ 0,  1,  2,  3,  4,  5,  6,  7,  8,  9, 10])\n",
    "data_target tensor([ 0,  2,  4,  6,  8, 10, 12, 14, 16, 18, 20])\n"
   ]
  },
  {
   "cell_type": "code",
   "execution_count": 1,
   "metadata": {},
   "outputs": [],
   "source": [
    "# print(\"data_input\", data_input)\n",
    "# print(\"data_target\", data_target)"
   ]
  },
  {
   "cell_type": "markdown",
   "metadata": {},
   "source": [
    "So far so good. But also quiet time consuming, if we want to create many different sets of labeled data. A good way to work around this is by using a function, that takes a time domain as input and creates a set of labeled data. Let's call this function `create_labeled_data` and implement it: \n",
    "### Task 2\n",
    "1. **Implement a function `create_labeled_data`:**\n",
    "   - The function should generate a `data_input` and `data_target` tensor and store them in a dictionary.\n",
    "   - A step by step explanation is given in the docstring of the function.\n",
    "   <br><br>\n",
    "2. **Create a dictionary `labeled_data` by executing the `create_labeled_data` function:**\n",
    "   - Choose as Boundary conditions `t_min = 0` and `t_max = 10`.\n",
    "   - Print your dictionary.\n",
    "\n",
    "Hint:  \n",
    "You have never come across a Python **dictionary** before. Discover valuable information about them [at this source](https://www.w3schools.com/python/python_dictionaries.asp)"
   ]
  },
  {
   "cell_type": "code",
   "execution_count": null,
   "metadata": {},
   "outputs": [],
   "source": [
    "def create_labeled_data(t_min, t_max):\n",
    "    \"\"\"\n",
    "    Creates labeled data and stores it in a dictionary.\n",
    "\n",
    "    Step 1: Generate Data\n",
    "            - Create 'data_input' and 'data_target' tensors as in Task one.\n",
    "            - As time boundaries use t_min and t_max.\n",
    "\n",
    "    Step 2: Return Dictionary\n",
    "            - Name the keys \"input\" and \"target\".\n",
    "            - Link the keys to the appropriated variables created in Step 1.\n",
    "\n",
    "    Parameters\n",
    "    ----------\n",
    "    t_min : int\n",
    "        The minimum value for the input data.\n",
    "    t_max : int\n",
    "        The maximum value for the input data.\n",
    "\n",
    "    Returns\n",
    "    -------\n",
    "    dict\n",
    "        A dictionary containing the input and target data.\n",
    "        The dictionary has two entries:\n",
    "        - \"input\": a tensor containing the input data\n",
    "        - \"target\": a tensor containing the target data\n",
    "    \"\"\"\n",
    "    # data_input = \n",
    "    # data_target = \n",
    "\n",
    "    pass #replace the pass with retrun and the dictionary"
   ]
  },
  {
   "cell_type": "code",
   "execution_count": null,
   "metadata": {},
   "outputs": [],
   "source": [
    "# Create a dictionary called \"labels_dict\" and print it.\n",
    "\n",
    "# labels_dict = \n",
    "# print(\"labels_dict: \", labels_dict)"
   ]
  },
  {
   "cell_type": "markdown",
   "metadata": {},
   "source": [
    "# Automation\n",
    "We are now able to create a dictionary with labeled data using the `create_labeled_data` function. But what if we want to create several of them with different time boundaries? The hard way is to create each of them by hand. The smart way is to employ a for loop that iterates over a list of time boundaries. This way, we can maintain multiple dictionaries, each containing labeled data associated with distinct time intervals, within a single overarching dictionary. In other words, we generate a [nested dictionary](https://www.w3schools.com/python/python_dictionaries_nested.asp).  \n",
    "Here is how:\n",
    "\n",
    "### Task 3\n",
    "1. **Generate a `data_dict` that contains all `labels_dicts`:**\n",
    "   - Create a List called `looplist` with 3 tuples of your choice associated with (`t_min`, `t_max`).\n",
    "   - Set up an empty dictionary called `data_dict`.\n",
    "   - Build a for loop that iterates over the tuples (`t_min`, `t_max`) in the looplist. Use the enumerate Method to generate a counter.\n",
    "   - **Inside the loop,** \n",
    "      - Create a dictionary `labels_dict`  by calling the `create_labeled_data` function.\n",
    "      - Define a variable called key, that stores dynamically generated keys. Use a [formatted string](https://builtin.com/data-science/python-f-string)  to create unique keys for each iteration(e.g., `\"data_0\"`, `\"data_1\"`, `\"data_2\"`).\n",
    "      - Store the generated data and its associated key in the `data_dict`. \n",
    "   - Outside the loop, print or display the `data_dict` to view the stored data.\n"
   ]
  },
  {
   "cell_type": "code",
   "execution_count": 3,
   "metadata": {},
   "outputs": [],
   "source": [
    "# Define a list of tuples, where each tuple represents time range limits\n",
    "# looplist = \n",
    "\n",
    "# Initialize an empty dictionary to store labeled data\n",
    "# data_dict = \n",
    "\n",
    "# Loop through the list of time range tuples\n",
    "# for i, (t_min, t_max) in enumerate(looplist):\n",
    "    \n",
    "    # Call a function to create a train dictionary for the current time range\n",
    "    # labels_dict = \n",
    "    \n",
    "    # Create a unique key using a formatted string\n",
    "    # key = \n",
    "    \n",
    "    # Store the labeled data in the dictionary with the unique key\n",
    "    # data_dict[key] = \n",
    "\n",
    "# Print the dictionary containing labeled data"
   ]
  },
  {
   "cell_type": "markdown",
   "metadata": {},
   "source": [
    "**Good Job, you are now well prepared for the experiment.**"
   ]
  }
 ],
 "metadata": {
  "kernelspec": {
   "display_name": "Python 3",
   "language": "python",
   "name": "python3"
  },
  "language_info": {
   "codemirror_mode": {
    "name": "ipython",
    "version": 3
   },
   "file_extension": ".py",
   "mimetype": "text/x-python",
   "name": "python",
   "nbconvert_exporter": "python",
   "pygments_lexer": "ipython3",
   "version": "3.10.6"
  }
 },
 "nbformat": 4,
 "nbformat_minor": 2
}
